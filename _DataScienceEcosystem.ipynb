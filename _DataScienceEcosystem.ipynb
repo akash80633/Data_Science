{
  "cells": [
    {
      "cell_type": "markdown",
      "id": "38202b06-78fc-48ee-885a-bb4245317273",
      "metadata": {
        "editable": true,
        "tags": [],
        "id": "38202b06-78fc-48ee-885a-bb4245317273"
      },
      "source": [
        "# Data Science Tools and Ecosystem"
      ]
    },
    {
      "cell_type": "markdown",
      "id": "066a2f4e-2767-42bd-8a8e-543d53f8fbce",
      "metadata": {
        "id": "066a2f4e-2767-42bd-8a8e-543d53f8fbce"
      },
      "source": [
        "In this notebook, Data Science Tools and Ecosystem are summarized."
      ]
    },
    {
      "cell_type": "markdown",
      "id": "7215dc92-1c88-48dc-97ce-18c3655d6b14",
      "metadata": {
        "id": "7215dc92-1c88-48dc-97ce-18c3655d6b14"
      },
      "source": [
        "**Objectives:**\n",
        "* List popular languages for Data Science\n",
        "* commonly used libraries used by Data Scientists\n",
        "* Data Science Tools\n",
        "* Demonstrate basic arithmetic operations in Python"
      ]
    },
    {
      "cell_type": "markdown",
      "id": "0d610a40-6eac-4ea7-872e-d1401edc2134",
      "metadata": {
        "id": "0d610a40-6eac-4ea7-872e-d1401edc2134"
      },
      "source": [
        "Some of the popular languages that Data Scientists use are:\n",
        "1. Python\n",
        "2. R\n",
        "3. SQL"
      ]
    },
    {
      "cell_type": "markdown",
      "id": "bfa375be-ea49-42d0-84f5-35d22e58e5f7",
      "metadata": {
        "id": "bfa375be-ea49-42d0-84f5-35d22e58e5f7"
      },
      "source": [
        "Some of the commonly used libraries used by Data Scientists include:\n",
        "1. Pandas\n",
        "2. Seaborn\n",
        "3. NumPy\n",
        "4. Scikit-learn\n",
        "5. TensorFlow"
      ]
    },
    {
      "cell_type": "markdown",
      "id": "4b699324-d69f-4065-89db-502347d8c7c3",
      "metadata": {
        "id": "4b699324-d69f-4065-89db-502347d8c7c3"
      },
      "source": [
        "| Data Science Tools |\n",
        " -------------------\n",
        "| Jupyter Notebook |\n",
        "| RStudio |\n",
        "| Apache Spark |"
      ]
    },
    {
      "cell_type": "markdown",
      "id": "03b1afc4-9024-4418-845d-fd1e869cafee",
      "metadata": {
        "id": "03b1afc4-9024-4418-845d-fd1e869cafee"
      },
      "source": [
        "### Below are a few examples of evaluating arithmetic expressions in Python\n",
        "* Addition: 2 + 3 results in 5\n",
        "* Subtraction: 5 - 2 results in 3\n",
        "* Multiplication: 3 * 4 results in 12\n",
        "* Division: 8 / 2 results in 4"
      ]
    },
    {
      "cell_type": "code",
      "execution_count": null,
      "id": "e4208882-20b7-4122-8a27-e48743ffb873",
      "metadata": {
        "id": "e4208882-20b7-4122-8a27-e48743ffb873",
        "outputId": "cb9d835e-2a77-44bd-afd5-28e0a0dd23f4"
      },
      "outputs": [
        {
          "data": {
            "text/plain": [
              "17"
            ]
          },
          "execution_count": 14,
          "metadata": {},
          "output_type": "execute_result"
        }
      ],
      "source": [
        "#This a simple arithmetic expression to mutiply then add integers\n",
        "(3*4)+5"
      ]
    },
    {
      "cell_type": "code",
      "execution_count": null,
      "id": "11088fbf-9f6a-419d-aa7f-21af79e7ec80",
      "metadata": {
        "id": "11088fbf-9f6a-419d-aa7f-21af79e7ec80",
        "outputId": "c0f4669c-7533-4ed9-8b81-95a4d88a51a8"
      },
      "outputs": [
        {
          "data": {
            "text/plain": [
              "3.3333333333333335"
            ]
          },
          "execution_count": 16,
          "metadata": {},
          "output_type": "execute_result"
        }
      ],
      "source": [
        "#This will convert 200 minutes to hours by diving by 60\n",
        "200/60"
      ]
    },
    {
      "cell_type": "markdown",
      "id": "005c1917-37c2-412e-8de1-6b1dfb7b55bf",
      "metadata": {
        "id": "005c1917-37c2-412e-8de1-6b1dfb7b55bf"
      },
      "source": [
        "## Author\n",
        "Akash Agnihotri"
      ]
    },
    {
      "cell_type": "code",
      "execution_count": null,
      "id": "6df264a8-8cfe-42c7-8dc4-f3b8bdc0d1a4",
      "metadata": {
        "id": "6df264a8-8cfe-42c7-8dc4-f3b8bdc0d1a4"
      },
      "outputs": [],
      "source": []
    }
  ],
  "metadata": {
    "kernelspec": {
      "display_name": "Python 3 (ipykernel)",
      "language": "python",
      "name": "python3"
    },
    "language_info": {
      "codemirror_mode": {
        "name": "ipython",
        "version": 3
      },
      "file_extension": ".py",
      "mimetype": "text/x-python",
      "name": "python",
      "nbconvert_exporter": "python",
      "pygments_lexer": "ipython3",
      "version": "3.12.4"
    },
    "colab": {
      "provenance": []
    }
  },
  "nbformat": 4,
  "nbformat_minor": 5
}